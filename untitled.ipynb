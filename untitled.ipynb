{
 "cells": [
  {
   "cell_type": "code",
   "execution_count": 1,
   "id": "ea74a289-614f-413d-95c4-8d44f93349d3",
   "metadata": {},
   "outputs": [],
   "source": [
    "import pandas as pd\n",
    "\n",
    "from datetime import datetime\n",
    "\n",
    "import geopandas as gpd\n",
    "import matplotlib.pyplot as plt"
   ]
  },
  {
   "cell_type": "code",
   "execution_count": 2,
   "id": "99abc839-ed3b-4f1d-a070-a4f17fc5e2a9",
   "metadata": {},
   "outputs": [],
   "source": [
    "import matplotlib.colors"
   ]
  },
  {
   "cell_type": "markdown",
   "id": "b1f4291d-00bc-4ca9-8fec-47b248374df9",
   "metadata": {},
   "source": [
    "From INEGI's website (Mexico's National Institute of Statistics and Geography), we download *Marco Geoestadístico Integrado 2022* (https://www.inegi.org.mx/temas/mg/), and get the geo-statistical areas corresponding to Mexican states, in the files *00ent*.\n",
    "\n",
    "Similarly, from the federal government's website (https://www.gob.mx/cre/articulos/precios-vigentes-de-gasolinas-y-diesel, one can find an xls file with the average monthly fuel (regular and premium gas, and diesel) prices by state, under *Precios Promedio Mensuales por Entidad Federativa de Gasolinas y Diésel*. The csv file used here corresponds to the Excel sheet for regular gas"
   ]
  },
  {
   "cell_type": "code",
   "execution_count": 3,
   "id": "b8c83b7d-6105-4004-b731-3b57ff0752d3",
   "metadata": {},
   "outputs": [],
   "source": [
    "MX = gpd.read_file(\"conjunto_de_datos/00ent.shp\")"
   ]
  },
  {
   "cell_type": "code",
   "execution_count": 4,
   "id": "2183e735-9c52-46d4-88bc-d4b197a9ad72",
   "metadata": {},
   "outputs": [
    {
     "data": {
      "text/html": [
       "<div>\n",
       "<style scoped>\n",
       "    .dataframe tbody tr th:only-of-type {\n",
       "        vertical-align: middle;\n",
       "    }\n",
       "\n",
       "    .dataframe tbody tr th {\n",
       "        vertical-align: top;\n",
       "    }\n",
       "\n",
       "    .dataframe thead th {\n",
       "        text-align: right;\n",
       "    }\n",
       "</style>\n",
       "<table border=\"1\" class=\"dataframe\">\n",
       "  <thead>\n",
       "    <tr style=\"text-align: right;\">\n",
       "      <th></th>\n",
       "      <th>CVEGEO</th>\n",
       "      <th>CVE_ENT</th>\n",
       "      <th>NOMGEO</th>\n",
       "      <th>geometry</th>\n",
       "    </tr>\n",
       "  </thead>\n",
       "  <tbody>\n",
       "    <tr>\n",
       "      <th>0</th>\n",
       "      <td>01</td>\n",
       "      <td>01</td>\n",
       "      <td>Aguascalientes</td>\n",
       "      <td>POLYGON ((2470517.824 1155028.588, 2470552.248...</td>\n",
       "    </tr>\n",
       "    <tr>\n",
       "      <th>1</th>\n",
       "      <td>02</td>\n",
       "      <td>02</td>\n",
       "      <td>Baja California</td>\n",
       "      <td>MULTIPOLYGON (((1313480.513 1831458.607, 13135...</td>\n",
       "    </tr>\n",
       "    <tr>\n",
       "      <th>2</th>\n",
       "      <td>03</td>\n",
       "      <td>03</td>\n",
       "      <td>Baja California Sur</td>\n",
       "      <td>MULTIPOLYGON (((1694656.344 1227647.637, 16946...</td>\n",
       "    </tr>\n",
       "    <tr>\n",
       "      <th>3</th>\n",
       "      <td>04</td>\n",
       "      <td>04</td>\n",
       "      <td>Campeche</td>\n",
       "      <td>MULTIPOLYGON (((3544897.199 946994.621, 354491...</td>\n",
       "    </tr>\n",
       "    <tr>\n",
       "      <th>4</th>\n",
       "      <td>05</td>\n",
       "      <td>05</td>\n",
       "      <td>Coahuila de Zaragoza</td>\n",
       "      <td>POLYGON ((2469954.193 1978522.993, 2469982.807...</td>\n",
       "    </tr>\n",
       "  </tbody>\n",
       "</table>\n",
       "</div>"
      ],
      "text/plain": [
       "  CVEGEO CVE_ENT                NOMGEO  \\\n",
       "0     01      01        Aguascalientes   \n",
       "1     02      02       Baja California   \n",
       "2     03      03   Baja California Sur   \n",
       "3     04      04              Campeche   \n",
       "4     05      05  Coahuila de Zaragoza   \n",
       "\n",
       "                                            geometry  \n",
       "0  POLYGON ((2470517.824 1155028.588, 2470552.248...  \n",
       "1  MULTIPOLYGON (((1313480.513 1831458.607, 13135...  \n",
       "2  MULTIPOLYGON (((1694656.344 1227647.637, 16946...  \n",
       "3  MULTIPOLYGON (((3544897.199 946994.621, 354491...  \n",
       "4  POLYGON ((2469954.193 1978522.993, 2469982.807...  "
      ]
     },
     "execution_count": 4,
     "metadata": {},
     "output_type": "execute_result"
    }
   ],
   "source": [
    "MX.head()"
   ]
  },
  {
   "cell_type": "code",
   "execution_count": 5,
   "id": "e08642b8-bae0-4fc5-b86c-73e6711da634",
   "metadata": {},
   "outputs": [],
   "source": [
    "avg_prices = pd.read_csv(\"avg_gas_price_by_state_mx.csv\", header=1)"
   ]
  },
  {
   "cell_type": "code",
   "execution_count": 6,
   "id": "0ed6d2fa-d5c2-40a3-a77e-7faf7f5f58ea",
   "metadata": {},
   "outputs": [
    {
     "data": {
      "text/html": [
       "<div>\n",
       "<style scoped>\n",
       "    .dataframe tbody tr th:only-of-type {\n",
       "        vertical-align: middle;\n",
       "    }\n",
       "\n",
       "    .dataframe tbody tr th {\n",
       "        vertical-align: top;\n",
       "    }\n",
       "\n",
       "    .dataframe thead th {\n",
       "        text-align: right;\n",
       "    }\n",
       "</style>\n",
       "<table border=\"1\" class=\"dataframe\">\n",
       "  <thead>\n",
       "    <tr style=\"text-align: right;\">\n",
       "      <th></th>\n",
       "      <th>Unnamed: 0</th>\n",
       "      <th>ENE</th>\n",
       "      <th>FEB</th>\n",
       "      <th>MAR</th>\n",
       "      <th>ABR</th>\n",
       "      <th>MAY</th>\n",
       "      <th>JUN</th>\n",
       "      <th>JUL</th>\n",
       "      <th>AGO</th>\n",
       "      <th>SEP</th>\n",
       "      <th>...</th>\n",
       "      <th>FEB.5</th>\n",
       "      <th>MAR.5</th>\n",
       "      <th>ABR.5</th>\n",
       "      <th>MAY.5</th>\n",
       "      <th>JUN.5</th>\n",
       "      <th>JUL.5</th>\n",
       "      <th>AGO.5</th>\n",
       "      <th>SEP.5</th>\n",
       "      <th>OCT.5</th>\n",
       "      <th>NOV.5</th>\n",
       "    </tr>\n",
       "  </thead>\n",
       "  <tbody>\n",
       "    <tr>\n",
       "      <th>0</th>\n",
       "      <td>Nacional</td>\n",
       "      <td>16.00</td>\n",
       "      <td>15.85</td>\n",
       "      <td>15.78</td>\n",
       "      <td>15.78</td>\n",
       "      <td>15.68</td>\n",
       "      <td>15.57</td>\n",
       "      <td>15.48</td>\n",
       "      <td>15.56</td>\n",
       "      <td>15.79</td>\n",
       "      <td>...</td>\n",
       "      <td>20.85</td>\n",
       "      <td>21.28</td>\n",
       "      <td>21.47</td>\n",
       "      <td>21.66</td>\n",
       "      <td>21.86</td>\n",
       "      <td>21.83</td>\n",
       "      <td>21.93</td>\n",
       "      <td>21.69</td>\n",
       "      <td>21.89</td>\n",
       "      <td>21.79</td>\n",
       "    </tr>\n",
       "    <tr>\n",
       "      <th>1</th>\n",
       "      <td>Aguascalientes</td>\n",
       "      <td>16.19</td>\n",
       "      <td>16.22</td>\n",
       "      <td>16.10</td>\n",
       "      <td>16.12</td>\n",
       "      <td>16.03</td>\n",
       "      <td>15.94</td>\n",
       "      <td>15.86</td>\n",
       "      <td>15.92</td>\n",
       "      <td>16.15</td>\n",
       "      <td>...</td>\n",
       "      <td>20.81</td>\n",
       "      <td>21.25</td>\n",
       "      <td>21.48</td>\n",
       "      <td>21.79</td>\n",
       "      <td>21.80</td>\n",
       "      <td>21.70</td>\n",
       "      <td>21.64</td>\n",
       "      <td>21.39</td>\n",
       "      <td>21.56</td>\n",
       "      <td>21.51</td>\n",
       "    </tr>\n",
       "    <tr>\n",
       "      <th>2</th>\n",
       "      <td>Baja California</td>\n",
       "      <td>16.08</td>\n",
       "      <td>16.04</td>\n",
       "      <td>15.85</td>\n",
       "      <td>15.87</td>\n",
       "      <td>15.83</td>\n",
       "      <td>15.81</td>\n",
       "      <td>15.70</td>\n",
       "      <td>15.80</td>\n",
       "      <td>15.98</td>\n",
       "      <td>...</td>\n",
       "      <td>19.99</td>\n",
       "      <td>20.48</td>\n",
       "      <td>21.12</td>\n",
       "      <td>21.28</td>\n",
       "      <td>21.30</td>\n",
       "      <td>21.12</td>\n",
       "      <td>21.19</td>\n",
       "      <td>21.08</td>\n",
       "      <td>21.20</td>\n",
       "      <td>21.09</td>\n",
       "    </tr>\n",
       "    <tr>\n",
       "      <th>3</th>\n",
       "      <td>Baja California Sur</td>\n",
       "      <td>16.11</td>\n",
       "      <td>16.09</td>\n",
       "      <td>16.00</td>\n",
       "      <td>16.02</td>\n",
       "      <td>15.93</td>\n",
       "      <td>15.83</td>\n",
       "      <td>15.75</td>\n",
       "      <td>15.82</td>\n",
       "      <td>16.04</td>\n",
       "      <td>...</td>\n",
       "      <td>21.40</td>\n",
       "      <td>21.62</td>\n",
       "      <td>21.70</td>\n",
       "      <td>21.76</td>\n",
       "      <td>21.82</td>\n",
       "      <td>22.05</td>\n",
       "      <td>22.42</td>\n",
       "      <td>22.53</td>\n",
       "      <td>22.75</td>\n",
       "      <td>22.65</td>\n",
       "    </tr>\n",
       "    <tr>\n",
       "      <th>4</th>\n",
       "      <td>Campeche</td>\n",
       "      <td>15.66</td>\n",
       "      <td>15.65</td>\n",
       "      <td>15.56</td>\n",
       "      <td>15.59</td>\n",
       "      <td>15.49</td>\n",
       "      <td>15.39</td>\n",
       "      <td>15.32</td>\n",
       "      <td>15.38</td>\n",
       "      <td>15.60</td>\n",
       "      <td>...</td>\n",
       "      <td>22.23</td>\n",
       "      <td>22.58</td>\n",
       "      <td>22.60</td>\n",
       "      <td>22.68</td>\n",
       "      <td>22.73</td>\n",
       "      <td>22.80</td>\n",
       "      <td>22.93</td>\n",
       "      <td>23.06</td>\n",
       "      <td>23.22</td>\n",
       "      <td>23.32</td>\n",
       "    </tr>\n",
       "  </tbody>\n",
       "</table>\n",
       "<p>5 rows × 72 columns</p>\n",
       "</div>"
      ],
      "text/plain": [
       "            Unnamed: 0    ENE    FEB    MAR    ABR    MAY    JUN    JUL  \\\n",
       "0             Nacional  16.00  15.85  15.78  15.78  15.68  15.57  15.48   \n",
       "1       Aguascalientes  16.19  16.22  16.10  16.12  16.03  15.94  15.86   \n",
       "2      Baja California  16.08  16.04  15.85  15.87  15.83  15.81  15.70   \n",
       "3  Baja California Sur  16.11  16.09  16.00  16.02  15.93  15.83  15.75   \n",
       "4             Campeche  15.66  15.65  15.56  15.59  15.49  15.39  15.32   \n",
       "\n",
       "     AGO    SEP  ...  FEB.5  MAR.5  ABR.5  MAY.5  JUN.5  JUL.5  AGO.5  SEP.5  \\\n",
       "0  15.56  15.79  ...  20.85  21.28  21.47  21.66  21.86  21.83  21.93  21.69   \n",
       "1  15.92  16.15  ...  20.81  21.25  21.48  21.79  21.80  21.70  21.64  21.39   \n",
       "2  15.80  15.98  ...  19.99  20.48  21.12  21.28  21.30  21.12  21.19  21.08   \n",
       "3  15.82  16.04  ...  21.40  21.62  21.70  21.76  21.82  22.05  22.42  22.53   \n",
       "4  15.38  15.60  ...  22.23  22.58  22.60  22.68  22.73  22.80  22.93  23.06   \n",
       "\n",
       "   OCT.5  NOV.5  \n",
       "0  21.89  21.79  \n",
       "1  21.56  21.51  \n",
       "2  21.20  21.09  \n",
       "3  22.75  22.65  \n",
       "4  23.22  23.32  \n",
       "\n",
       "[5 rows x 72 columns]"
      ]
     },
     "execution_count": 6,
     "metadata": {},
     "output_type": "execute_result"
    }
   ],
   "source": [
    "avg_prices.head()"
   ]
  },
  {
   "cell_type": "markdown",
   "id": "28ac39c4-2dd8-42eb-a471-b84e68bfefbf",
   "metadata": {},
   "source": [
    "We get rid of the row showing the national average price, and rename the state's names column to *NOMGEO* to match that of our geoDataframe."
   ]
  },
  {
   "cell_type": "code",
   "execution_count": 7,
   "id": "74364edb-4ea2-4d07-87c6-448a26426e4b",
   "metadata": {},
   "outputs": [],
   "source": [
    "avg_prices = avg_prices.iloc[1:]"
   ]
  },
  {
   "cell_type": "code",
   "execution_count": 8,
   "id": "6867f71c-d305-4914-bdf4-9bcabf754af6",
   "metadata": {},
   "outputs": [],
   "source": [
    "#Changing name of column\n",
    "names = list(avg_prices.columns)\n",
    "\n",
    "names[0] = 'NOMGEO'\n",
    "\n",
    "avg_prices.columns = names"
   ]
  },
  {
   "cell_type": "markdown",
   "id": "e09fd6d5-7f6b-4331-9f16-2d0663b866a0",
   "metadata": {},
   "source": [
    "We merge our prices dataframe into our geoDataframe"
   ]
  },
  {
   "cell_type": "code",
   "execution_count": 9,
   "id": "4445e33c-ada5-404c-bb8e-e7087a9b1673",
   "metadata": {},
   "outputs": [],
   "source": [
    "MX = MX.merge(avg_prices, on=\"NOMGEO\")"
   ]
  },
  {
   "cell_type": "code",
   "execution_count": 10,
   "id": "eaa3a7e7-9c3d-4370-94a4-21299cd2dc7b",
   "metadata": {},
   "outputs": [
    {
     "data": {
      "text/html": [
       "<div>\n",
       "<style scoped>\n",
       "    .dataframe tbody tr th:only-of-type {\n",
       "        vertical-align: middle;\n",
       "    }\n",
       "\n",
       "    .dataframe tbody tr th {\n",
       "        vertical-align: top;\n",
       "    }\n",
       "\n",
       "    .dataframe thead th {\n",
       "        text-align: right;\n",
       "    }\n",
       "</style>\n",
       "<table border=\"1\" class=\"dataframe\">\n",
       "  <thead>\n",
       "    <tr style=\"text-align: right;\">\n",
       "      <th></th>\n",
       "      <th>CVEGEO</th>\n",
       "      <th>CVE_ENT</th>\n",
       "      <th>NOMGEO</th>\n",
       "      <th>geometry</th>\n",
       "      <th>ENE</th>\n",
       "      <th>FEB</th>\n",
       "      <th>MAR</th>\n",
       "      <th>ABR</th>\n",
       "      <th>MAY</th>\n",
       "      <th>JUN</th>\n",
       "      <th>...</th>\n",
       "      <th>FEB.5</th>\n",
       "      <th>MAR.5</th>\n",
       "      <th>ABR.5</th>\n",
       "      <th>MAY.5</th>\n",
       "      <th>JUN.5</th>\n",
       "      <th>JUL.5</th>\n",
       "      <th>AGO.5</th>\n",
       "      <th>SEP.5</th>\n",
       "      <th>OCT.5</th>\n",
       "      <th>NOV.5</th>\n",
       "    </tr>\n",
       "  </thead>\n",
       "  <tbody>\n",
       "    <tr>\n",
       "      <th>0</th>\n",
       "      <td>01</td>\n",
       "      <td>01</td>\n",
       "      <td>Aguascalientes</td>\n",
       "      <td>POLYGON ((2470517.824 1155028.588, 2470552.248...</td>\n",
       "      <td>16.19</td>\n",
       "      <td>16.22</td>\n",
       "      <td>16.10</td>\n",
       "      <td>16.12</td>\n",
       "      <td>16.03</td>\n",
       "      <td>15.94</td>\n",
       "      <td>...</td>\n",
       "      <td>20.81</td>\n",
       "      <td>21.25</td>\n",
       "      <td>21.48</td>\n",
       "      <td>21.79</td>\n",
       "      <td>21.80</td>\n",
       "      <td>21.70</td>\n",
       "      <td>21.64</td>\n",
       "      <td>21.39</td>\n",
       "      <td>21.56</td>\n",
       "      <td>21.51</td>\n",
       "    </tr>\n",
       "    <tr>\n",
       "      <th>1</th>\n",
       "      <td>02</td>\n",
       "      <td>02</td>\n",
       "      <td>Baja California</td>\n",
       "      <td>MULTIPOLYGON (((1313480.513 1831458.607, 13135...</td>\n",
       "      <td>16.08</td>\n",
       "      <td>16.04</td>\n",
       "      <td>15.85</td>\n",
       "      <td>15.87</td>\n",
       "      <td>15.83</td>\n",
       "      <td>15.81</td>\n",
       "      <td>...</td>\n",
       "      <td>19.99</td>\n",
       "      <td>20.48</td>\n",
       "      <td>21.12</td>\n",
       "      <td>21.28</td>\n",
       "      <td>21.30</td>\n",
       "      <td>21.12</td>\n",
       "      <td>21.19</td>\n",
       "      <td>21.08</td>\n",
       "      <td>21.20</td>\n",
       "      <td>21.09</td>\n",
       "    </tr>\n",
       "    <tr>\n",
       "      <th>2</th>\n",
       "      <td>03</td>\n",
       "      <td>03</td>\n",
       "      <td>Baja California Sur</td>\n",
       "      <td>MULTIPOLYGON (((1694656.344 1227647.637, 16946...</td>\n",
       "      <td>16.11</td>\n",
       "      <td>16.09</td>\n",
       "      <td>16.00</td>\n",
       "      <td>16.02</td>\n",
       "      <td>15.93</td>\n",
       "      <td>15.83</td>\n",
       "      <td>...</td>\n",
       "      <td>21.40</td>\n",
       "      <td>21.62</td>\n",
       "      <td>21.70</td>\n",
       "      <td>21.76</td>\n",
       "      <td>21.82</td>\n",
       "      <td>22.05</td>\n",
       "      <td>22.42</td>\n",
       "      <td>22.53</td>\n",
       "      <td>22.75</td>\n",
       "      <td>22.65</td>\n",
       "    </tr>\n",
       "    <tr>\n",
       "      <th>3</th>\n",
       "      <td>04</td>\n",
       "      <td>04</td>\n",
       "      <td>Campeche</td>\n",
       "      <td>MULTIPOLYGON (((3544897.199 946994.621, 354491...</td>\n",
       "      <td>15.66</td>\n",
       "      <td>15.65</td>\n",
       "      <td>15.56</td>\n",
       "      <td>15.59</td>\n",
       "      <td>15.49</td>\n",
       "      <td>15.39</td>\n",
       "      <td>...</td>\n",
       "      <td>22.23</td>\n",
       "      <td>22.58</td>\n",
       "      <td>22.60</td>\n",
       "      <td>22.68</td>\n",
       "      <td>22.73</td>\n",
       "      <td>22.80</td>\n",
       "      <td>22.93</td>\n",
       "      <td>23.06</td>\n",
       "      <td>23.22</td>\n",
       "      <td>23.32</td>\n",
       "    </tr>\n",
       "    <tr>\n",
       "      <th>4</th>\n",
       "      <td>05</td>\n",
       "      <td>05</td>\n",
       "      <td>Coahuila de Zaragoza</td>\n",
       "      <td>POLYGON ((2469954.193 1978522.993, 2469982.807...</td>\n",
       "      <td>15.77</td>\n",
       "      <td>15.83</td>\n",
       "      <td>15.71</td>\n",
       "      <td>15.62</td>\n",
       "      <td>15.47</td>\n",
       "      <td>15.41</td>\n",
       "      <td>...</td>\n",
       "      <td>20.53</td>\n",
       "      <td>21.23</td>\n",
       "      <td>21.57</td>\n",
       "      <td>21.96</td>\n",
       "      <td>22.11</td>\n",
       "      <td>22.06</td>\n",
       "      <td>22.01</td>\n",
       "      <td>21.55</td>\n",
       "      <td>21.74</td>\n",
       "      <td>21.66</td>\n",
       "    </tr>\n",
       "  </tbody>\n",
       "</table>\n",
       "<p>5 rows × 75 columns</p>\n",
       "</div>"
      ],
      "text/plain": [
       "  CVEGEO CVE_ENT                NOMGEO  \\\n",
       "0     01      01        Aguascalientes   \n",
       "1     02      02       Baja California   \n",
       "2     03      03   Baja California Sur   \n",
       "3     04      04              Campeche   \n",
       "4     05      05  Coahuila de Zaragoza   \n",
       "\n",
       "                                            geometry    ENE    FEB    MAR  \\\n",
       "0  POLYGON ((2470517.824 1155028.588, 2470552.248...  16.19  16.22  16.10   \n",
       "1  MULTIPOLYGON (((1313480.513 1831458.607, 13135...  16.08  16.04  15.85   \n",
       "2  MULTIPOLYGON (((1694656.344 1227647.637, 16946...  16.11  16.09  16.00   \n",
       "3  MULTIPOLYGON (((3544897.199 946994.621, 354491...  15.66  15.65  15.56   \n",
       "4  POLYGON ((2469954.193 1978522.993, 2469982.807...  15.77  15.83  15.71   \n",
       "\n",
       "     ABR    MAY    JUN  ...  FEB.5  MAR.5  ABR.5  MAY.5  JUN.5  JUL.5  AGO.5  \\\n",
       "0  16.12  16.03  15.94  ...  20.81  21.25  21.48  21.79  21.80  21.70  21.64   \n",
       "1  15.87  15.83  15.81  ...  19.99  20.48  21.12  21.28  21.30  21.12  21.19   \n",
       "2  16.02  15.93  15.83  ...  21.40  21.62  21.70  21.76  21.82  22.05  22.42   \n",
       "3  15.59  15.49  15.39  ...  22.23  22.58  22.60  22.68  22.73  22.80  22.93   \n",
       "4  15.62  15.47  15.41  ...  20.53  21.23  21.57  21.96  22.11  22.06  22.01   \n",
       "\n",
       "   SEP.5  OCT.5  NOV.5  \n",
       "0  21.39  21.56  21.51  \n",
       "1  21.08  21.20  21.09  \n",
       "2  22.53  22.75  22.65  \n",
       "3  23.06  23.22  23.32  \n",
       "4  21.55  21.74  21.66  \n",
       "\n",
       "[5 rows x 75 columns]"
      ]
     },
     "execution_count": 10,
     "metadata": {},
     "output_type": "execute_result"
    }
   ],
   "source": [
    "MX.head()"
   ]
  },
  {
   "cell_type": "markdown",
   "id": "7cbcb6bb-7e8b-4b2a-965b-c5b178b7536e",
   "metadata": {},
   "source": [
    "For any given month, we can create a heatmap for the average price by state"
   ]
  },
  {
   "cell_type": "code",
   "execution_count": 11,
   "id": "500c0c73-f29c-4e01-85a7-cb74f994a22d",
   "metadata": {},
   "outputs": [
    {
     "data": {
      "text/plain": [
       "<AxesSubplot:>"
      ]
     },
     "execution_count": 11,
     "metadata": {},
     "output_type": "execute_result"
    },
    {
     "data": {
      "image/png": "[encoded data removed]",
      "text/plain": [
       "<Figure size 720x504 with 2 Axes>"
      ]
     },
     "metadata": {
      "needs_background": "light"
     },
     "output_type": "display_data"
    }
   ],
   "source": [
    "fig, ax = plt.subplots(1,1, figsize=(10, 7))\n",
    "\n",
    "\n",
    "fig.suptitle(\"Average price by state\", fontsize=16)\n",
    "\n",
    "ax.set_axis_off()\n",
    "\n",
    "MX.plot(ax = ax, column='ENE', cmap='jet', edgecolor='k', legend=True)"
   ]
  },
  {
   "cell_type": "markdown",
   "id": "2a723527-f0c4-42b5-82a5-111e4b5eaaea",
   "metadata": {},
   "source": [
    "To see how the price evolves in time, an animation can be created for each month in the dataframe, which go from January 2017 through November 2022. \n",
    "\n",
    "First, the columns of the dataframe will be renamed"
   ]
  },
  {
   "cell_type": "code",
   "execution_count": 12,
   "id": "27f4fef3-7810-466c-a1dc-adbe949b52d8",
   "metadata": {},
   "outputs": [],
   "source": [
    "s = datetime(2017, 1, 1)\n",
    "f = datetime(2022, 11, 30)"
   ]
  },
  {
   "cell_type": "code",
   "execution_count": 13,
   "id": "c82667aa-0d18-43f5-b182-e4efefdf5f00",
   "metadata": {},
   "outputs": [],
   "source": [
    "dates = []"
   ]
  },
  {
   "cell_type": "code",
   "execution_count": 14,
   "id": "4b559e54-32dd-4327-9839-2c1edaf045f4",
   "metadata": {},
   "outputs": [],
   "source": [
    "while s <= f:\n",
    "    #print(s)\n",
    "    dates.append(s)\n",
    "    s = s + pd.DateOffset(months=1)"
   ]
  },
  {
   "cell_type": "code",
   "execution_count": 15,
   "id": "4a8809d4-19d9-427c-a237-cea406893d9b",
   "metadata": {},
   "outputs": [],
   "source": [
    "dates = [d.strftime(\"%b %Y\") for d in dates]"
   ]
  },
  {
   "cell_type": "code",
   "execution_count": 16,
   "id": "40de0756-c387-4179-b3af-dbc8c21b1fb7",
   "metadata": {},
   "outputs": [],
   "source": [
    "MX.columns = list(MX.columns[:4]) + dates"
   ]
  },
  {
   "cell_type": "code",
   "execution_count": 17,
   "id": "727d7d5c-32b3-46b7-b19a-dceef30d88fb",
   "metadata": {},
   "outputs": [
    {
     "data": {
      "text/html": [
       "<div>\n",
       "<style scoped>\n",
       "    .dataframe tbody tr th:only-of-type {\n",
       "        vertical-align: middle;\n",
       "    }\n",
       "\n",
       "    .dataframe tbody tr th {\n",
       "        vertical-align: top;\n",
       "    }\n",
       "\n",
       "    .dataframe thead th {\n",
       "        text-align: right;\n",
       "    }\n",
       "</style>\n",
       "<table border=\"1\" class=\"dataframe\">\n",
       "  <thead>\n",
       "    <tr style=\"text-align: right;\">\n",
       "      <th></th>\n",
       "      <th>CVEGEO</th>\n",
       "      <th>CVE_ENT</th>\n",
       "      <th>NOMGEO</th>\n",
       "      <th>geometry</th>\n",
       "      <th>Jan 2017</th>\n",
       "      <th>Feb 2017</th>\n",
       "      <th>Mar 2017</th>\n",
       "      <th>Apr 2017</th>\n",
       "      <th>May 2017</th>\n",
       "      <th>Jun 2017</th>\n",
       "      <th>...</th>\n",
       "      <th>Feb 2022</th>\n",
       "      <th>Mar 2022</th>\n",
       "      <th>Apr 2022</th>\n",
       "      <th>May 2022</th>\n",
       "      <th>Jun 2022</th>\n",
       "      <th>Jul 2022</th>\n",
       "      <th>Aug 2022</th>\n",
       "      <th>Sep 2022</th>\n",
       "      <th>Oct 2022</th>\n",
       "      <th>Nov 2022</th>\n",
       "    </tr>\n",
       "  </thead>\n",
       "  <tbody>\n",
       "    <tr>\n",
       "      <th>0</th>\n",
       "      <td>01</td>\n",
       "      <td>01</td>\n",
       "      <td>Aguascalientes</td>\n",
       "      <td>POLYGON ((2470517.824 1155028.588, 2470552.248...</td>\n",
       "      <td>16.19</td>\n",
       "      <td>16.22</td>\n",
       "      <td>16.10</td>\n",
       "      <td>16.12</td>\n",
       "      <td>16.03</td>\n",
       "      <td>15.94</td>\n",
       "      <td>...</td>\n",
       "      <td>20.81</td>\n",
       "      <td>21.25</td>\n",
       "      <td>21.48</td>\n",
       "      <td>21.79</td>\n",
       "      <td>21.80</td>\n",
       "      <td>21.70</td>\n",
       "      <td>21.64</td>\n",
       "      <td>21.39</td>\n",
       "      <td>21.56</td>\n",
       "      <td>21.51</td>\n",
       "    </tr>\n",
       "    <tr>\n",
       "      <th>1</th>\n",
       "      <td>02</td>\n",
       "      <td>02</td>\n",
       "      <td>Baja California</td>\n",
       "      <td>MULTIPOLYGON (((1313480.513 1831458.607, 13135...</td>\n",
       "      <td>16.08</td>\n",
       "      <td>16.04</td>\n",
       "      <td>15.85</td>\n",
       "      <td>15.87</td>\n",
       "      <td>15.83</td>\n",
       "      <td>15.81</td>\n",
       "      <td>...</td>\n",
       "      <td>19.99</td>\n",
       "      <td>20.48</td>\n",
       "      <td>21.12</td>\n",
       "      <td>21.28</td>\n",
       "      <td>21.30</td>\n",
       "      <td>21.12</td>\n",
       "      <td>21.19</td>\n",
       "      <td>21.08</td>\n",
       "      <td>21.20</td>\n",
       "      <td>21.09</td>\n",
       "    </tr>\n",
       "    <tr>\n",
       "      <th>2</th>\n",
       "      <td>03</td>\n",
       "      <td>03</td>\n",
       "      <td>Baja California Sur</td>\n",
       "      <td>MULTIPOLYGON (((1694656.344 1227647.637, 16946...</td>\n",
       "      <td>16.11</td>\n",
       "      <td>16.09</td>\n",
       "      <td>16.00</td>\n",
       "      <td>16.02</td>\n",
       "      <td>15.93</td>\n",
       "      <td>15.83</td>\n",
       "      <td>...</td>\n",
       "      <td>21.40</td>\n",
       "      <td>21.62</td>\n",
       "      <td>21.70</td>\n",
       "      <td>21.76</td>\n",
       "      <td>21.82</td>\n",
       "      <td>22.05</td>\n",
       "      <td>22.42</td>\n",
       "      <td>22.53</td>\n",
       "      <td>22.75</td>\n",
       "      <td>22.65</td>\n",
       "    </tr>\n",
       "    <tr>\n",
       "      <th>3</th>\n",
       "      <td>04</td>\n",
       "      <td>04</td>\n",
       "      <td>Campeche</td>\n",
       "      <td>MULTIPOLYGON (((3544897.199 946994.621, 354491...</td>\n",
       "      <td>15.66</td>\n",
       "      <td>15.65</td>\n",
       "      <td>15.56</td>\n",
       "      <td>15.59</td>\n",
       "      <td>15.49</td>\n",
       "      <td>15.39</td>\n",
       "      <td>...</td>\n",
       "      <td>22.23</td>\n",
       "      <td>22.58</td>\n",
       "      <td>22.60</td>\n",
       "      <td>22.68</td>\n",
       "      <td>22.73</td>\n",
       "      <td>22.80</td>\n",
       "      <td>22.93</td>\n",
       "      <td>23.06</td>\n",
       "      <td>23.22</td>\n",
       "      <td>23.32</td>\n",
       "    </tr>\n",
       "    <tr>\n",
       "      <th>4</th>\n",
       "      <td>05</td>\n",
       "      <td>05</td>\n",
       "      <td>Coahuila de Zaragoza</td>\n",
       "      <td>POLYGON ((2469954.193 1978522.993, 2469982.807...</td>\n",
       "      <td>15.77</td>\n",
       "      <td>15.83</td>\n",
       "      <td>15.71</td>\n",
       "      <td>15.62</td>\n",
       "      <td>15.47</td>\n",
       "      <td>15.41</td>\n",
       "      <td>...</td>\n",
       "      <td>20.53</td>\n",
       "      <td>21.23</td>\n",
       "      <td>21.57</td>\n",
       "      <td>21.96</td>\n",
       "      <td>22.11</td>\n",
       "      <td>22.06</td>\n",
       "      <td>22.01</td>\n",
       "      <td>21.55</td>\n",
       "      <td>21.74</td>\n",
       "      <td>21.66</td>\n",
       "    </tr>\n",
       "  </tbody>\n",
       "</table>\n",
       "<p>5 rows × 75 columns</p>\n",
       "</div>"
      ],
      "text/plain": [
       "  CVEGEO CVE_ENT                NOMGEO  \\\n",
       "0     01      01        Aguascalientes   \n",
       "1     02      02       Baja California   \n",
       "2     03      03   Baja California Sur   \n",
       "3     04      04              Campeche   \n",
       "4     05      05  Coahuila de Zaragoza   \n",
       "\n",
       "                                            geometry  Jan 2017  Feb 2017  \\\n",
       "0  POLYGON ((2470517.824 1155028.588, 2470552.248...     16.19     16.22   \n",
       "1  MULTIPOLYGON (((1313480.513 1831458.607, 13135...     16.08     16.04   \n",
       "2  MULTIPOLYGON (((1694656.344 1227647.637, 16946...     16.11     16.09   \n",
       "3  MULTIPOLYGON (((3544897.199 946994.621, 354491...     15.66     15.65   \n",
       "4  POLYGON ((2469954.193 1978522.993, 2469982.807...     15.77     15.83   \n",
       "\n",
       "   Mar 2017  Apr 2017  May 2017  Jun 2017  ...  Feb 2022  Mar 2022  Apr 2022  \\\n",
       "0     16.10     16.12     16.03     15.94  ...     20.81     21.25     21.48   \n",
       "1     15.85     15.87     15.83     15.81  ...     19.99     20.48     21.12   \n",
       "2     16.00     16.02     15.93     15.83  ...     21.40     21.62     21.70   \n",
       "3     15.56     15.59     15.49     15.39  ...     22.23     22.58     22.60   \n",
       "4     15.71     15.62     15.47     15.41  ...     20.53     21.23     21.57   \n",
       "\n",
       "   May 2022  Jun 2022  Jul 2022  Aug 2022  Sep 2022  Oct 2022  Nov 2022  \n",
       "0     21.79     21.80     21.70     21.64     21.39     21.56     21.51  \n",
       "1     21.28     21.30     21.12     21.19     21.08     21.20     21.09  \n",
       "2     21.76     21.82     22.05     22.42     22.53     22.75     22.65  \n",
       "3     22.68     22.73     22.80     22.93     23.06     23.22     23.32  \n",
       "4     21.96     22.11     22.06     22.01     21.55     21.74     21.66  \n",
       "\n",
       "[5 rows x 75 columns]"
      ]
     },
     "execution_count": 17,
     "metadata": {},
     "output_type": "execute_result"
    }
   ],
   "source": [
    "MX.head()"
   ]
  },
  {
   "cell_type": "markdown",
   "id": "08b2d79c-7151-4d4b-83db-63feadcafa03",
   "metadata": {},
   "source": [
    "Since gas prices have gone up since 2017, the range of the colorbar should be fixed through out the time period for a meaningful interpretation. For that, we get the minimum and maximum price in the time frame, and use those as lower and upper limits"
   ]
  },
  {
   "cell_type": "code",
   "execution_count": 18,
   "id": "265d5b91-51b2-455d-b70a-9b106eced8fd",
   "metadata": {},
   "outputs": [
    {
     "data": {
      "text/plain": [
       "12.91"
      ]
     },
     "execution_count": 18,
     "metadata": {},
     "output_type": "execute_result"
    }
   ],
   "source": [
    "min(MX.min(axis='columns', numeric_only=True))"
   ]
  },
  {
   "cell_type": "code",
   "execution_count": 19,
   "id": "88caaec4-5369-4dcd-9025-7bc7758485ec",
   "metadata": {},
   "outputs": [
    {
     "data": {
      "text/plain": [
       "23.32"
      ]
     },
     "execution_count": 19,
     "metadata": {},
     "output_type": "execute_result"
    }
   ],
   "source": [
    "max(MX.max(axis='columns', numeric_only=True))"
   ]
  },
  {
   "cell_type": "markdown",
   "id": "6a729676-0be4-4ad7-8164-289f8e921cb8",
   "metadata": {},
   "source": [
    "Thanks to our renaming, now we can call the columns in a clearer way, and we can easily compare two different months thanks to the colorbar range being fixed."
   ]
  },
  {
   "cell_type": "code",
   "execution_count": 20,
   "id": "1663fa53-0b06-4eb2-8614-cd789fd2080f",
   "metadata": {},
   "outputs": [],
   "source": [
    "col1 = 'Nov 2021'"
   ]
  },
  {
   "cell_type": "code",
   "execution_count": 21,
   "id": "1b9d61f6-a255-4654-bed9-a5c1a1ebc030",
   "metadata": {},
   "outputs": [],
   "source": [
    "col2 = 'Nov 2022'"
   ]
  },
  {
   "cell_type": "code",
   "execution_count": 22,
   "id": "4ceb5494-b8d1-42de-9244-4e0cf55d2d5a",
   "metadata": {},
   "outputs": [],
   "source": [
    "#Custom cmap\n",
    "cmap = matplotlib.colors.LinearSegmentedColormap.from_list(\"\", [\"green\",\"yellow\",\"red\"])"
   ]
  },
  {
   "cell_type": "code",
   "execution_count": 23,
   "id": "70e4ed2f-8611-45bf-ada2-4975bda1d7d6",
   "metadata": {},
   "outputs": [
    {
     "data": {
      "text/plain": [
       "<AxesSubplot:>"
      ]
     },
     "execution_count": 23,
     "metadata": {},
     "output_type": "execute_result"
    },
    {
     "data": {
      "image/png": "[encoded data removed]",
      "text/plain": [
       "<Figure size 1440x504 with 4 Axes>"
      ]
     },
     "metadata": {
      "needs_background": "light"
     },
     "output_type": "display_data"
    }
   ],
   "source": [
    "fig, axes = plt.subplots(ncols=2, figsize=(20, 7))\n",
    "\n",
    "fig.suptitle(\"Average gasoline price (regular) in \" + col1 + \" and \" + col2, fontsize=16)\n",
    "\n",
    "axes[0].set_axis_off()\n",
    "axes[1].set_axis_off()\n",
    "\n",
    "MX.plot(ax = axes[0], column=col1, cmap=cmap, vmin=12, vmax=24, edgecolor='k', legend=True)\n",
    "MX.plot(ax = axes[1], column=col2, cmap=cmap, vmin=12, vmax=24, edgecolor='k', legend=True)"
   ]
  },
  {
   "cell_type": "markdown",
   "id": "6066279d-9290-4974-8a6a-1da7b49a47cd",
   "metadata": {},
   "source": [
    "We proceed to create and save a figure for each month"
   ]
  },
  {
   "cell_type": "code",
   "execution_count": null,
   "id": "5aed2e05-5ee4-4bbd-9996-3f3e58eb19fb",
   "metadata": {},
   "outputs": [],
   "source": [
    "i = 0\n",
    "\n",
    "for col in MX.columns[4:]:\n",
    "    fig, ax = plt.subplots(1,1, figsize=(10, 7), facecolor=\"white\")\n",
    "\n",
    "    fig.suptitle(\"Average gasoline price (regular) in \" + col, fontsize=16)\n",
    "\n",
    "    ax.set_axis_off()\n",
    "\n",
    "    MX.plot(ax = ax, column=col, cmap=cmap, vmin=12, vmax=24, edgecolor='k', legend=True)\n",
    "    \n",
    "    filename = str(i).zfill(3)\n",
    "    \n",
    "    i = i+1\n",
    "    \n",
    "    plt.savefig(filename)\n",
    "    plt.close(fig)"
   ]
  },
  {
   "cell_type": "markdown",
   "id": "afeb5e1f-b531-4e1a-87fa-6bbe5f18a727",
   "metadata": {},
   "source": [
    "Finally we create a gif using ImageMagick"
   ]
  },
  {
   "cell_type": "code",
   "execution_count": null,
   "id": "1f067e61-9c08-4987-aa06-f2199526c3c9",
   "metadata": {},
   "outputs": [],
   "source": [
    "! convert -dispose previous -loop 0 -delay 30 *.png output.gif"
   ]
  },
  {
   "cell_type": "code",
   "execution_count": null,
   "id": "9665e921-3538-47c9-8b2d-6b423ee19b93",
   "metadata": {},
   "outputs": [],
   "source": []
  }
 ],
 "metadata": {
  "kernelspec": {
   "display_name": "Python 3",
   "language": "python",
   "name": "python3"
  },
  "language_info": {
   "codemirror_mode": {
    "name": "ipython",
    "version": 3
   },
   "file_extension": ".py",
   "mimetype": "text/x-python",
   "name": "python",
   "nbconvert_exporter": "python",
   "pygments_lexer": "ipython3",
   "version": "3.8.10"
  }
 },
 "nbformat": 4,
 "nbformat_minor": 5
}
